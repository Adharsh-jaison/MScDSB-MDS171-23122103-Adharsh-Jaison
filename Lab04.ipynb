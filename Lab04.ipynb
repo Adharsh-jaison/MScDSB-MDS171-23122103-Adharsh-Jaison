{
 "cells": [
  {
   "cell_type": "markdown",
   "metadata": {},
   "source": [
    "From Farm to Table: The Grocery Store Management System\n",
    "\n",
    "In the heart of the vibrant town of Freshville was a quaint little grocery store named \"Farmers' Harvest.\" Owned by a passionate entrepreneur named Emily, Farmers' Harvest was renowned for its locally sourced produce, friendly atmosphere, and commitment to community sustainability.\n",
    "\n",
    "Emily had always dreamed of owning a grocery store that offered the community fresh, local, and organic produce. Her vision was to create a place where people could shop for quality groceries and connect with local farmers and artisans. She opened Farmers' Harvest with unwavering determination and a love for sustainable living.\n",
    "\n",
    "As Farmers' Harvest gained popularity, it faced a significant challenge – efficiently managing sales. Emily realized she needed a robust Grocery Store Management System (GSMS) to maintain the store's reputation for quality and freshness.\n",
    "\n",
    "Emily hired you as a team lead for a talented set of developers: Alex, Lisa, and Carlos. Together, you will create an advanced GSMS to revolutionise Farmers' Harvest.\n",
    "\n",
    "The software Emily is looking for is straightforward and has to store the orders in a file the store gets from its customers.\n",
    "\n",
    "As a data analyst specialist, gather insights from their customers' orders received for Farmers' Harvest in Freshville over time and display them to Emily as she uses your Application."
   ]
  },
  {
   "cell_type": "code",
   "execution_count": 3,
   "metadata": {},
   "outputs": [
    {
     "name": "stdout",
     "output_type": "stream",
     "text": [
      "details are saved...\n"
     ]
    },
    {
     "data": {
      "text/plain": [
       "['ITEM = \\tonion\\n',\n",
       " 'No. of items: \\t2\\n',\n",
       " 'price: \\t54\\n',\n",
       " 'phone no. : 6589658932']"
      ]
     },
     "execution_count": 3,
     "metadata": {},
     "output_type": "execute_result"
    }
   ],
   "source": [
    "\n",
    "def farharvest(item,no,price,phone):\n",
    "    with open(\"farmersharvest.txt\",\"w+\") as file:\n",
    "        file.write(\"ITEM = \\t\"+ item)\n",
    "        file.write(\"\\nNo. of items: \\t\"+no)\n",
    "        file.write(\"\\nprice: \\t\"+price)\n",
    "        file.write(\"\\nphone no. : \"+phone)\n",
    "\n",
    "        file.close()\n",
    "        return True\n",
    "\n",
    "user_item = input(\"Enter the name of the item: \")\n",
    "user_no = input(\"No. of items: \")\n",
    "user_price=input(\"Price of item: \")\n",
    "user_phone = input(\"enter phone no.: \")\n",
    "\n",
    "store = farharvest(user_item ,user_no,user_price,user_phone)\n",
    "\n",
    "if store:\n",
    "    print(\"details are saved...\")\n",
    "else:\n",
    "    print(\"error occured\")\n",
    "\n",
    "file = open(\"farmersharvest.txt\",\"r+\")\n",
    "file.readlines()\n",
    "\n",
    "\n"
   ]
  }
 ],
 "metadata": {
  "kernelspec": {
   "display_name": "Python 3",
   "language": "python",
   "name": "python3"
  },
  "language_info": {
   "codemirror_mode": {
    "name": "ipython",
    "version": 3
   },
   "file_extension": ".py",
   "mimetype": "text/x-python",
   "name": "python",
   "nbconvert_exporter": "python",
   "pygments_lexer": "ipython3",
   "version": "3.11.5"
  },
  "orig_nbformat": 4
 },
 "nbformat": 4,
 "nbformat_minor": 2
}
