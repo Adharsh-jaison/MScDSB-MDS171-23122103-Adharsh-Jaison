{
 "cells": [
  {
   "cell_type": "markdown",
   "metadata": {},
   "source": [
    "Lab 02:\n",
    "The Numerical Odyssey\n",
    "\n",
    "In the vibrant realm of Digiterra, there lived a princess named Alice; Alice is fascinated with recording numbers, which she asks as she meets new people when she moves around. Alice used to save the numbers in the following form\n",
    "\n",
    "Number - Input\n",
    "\n",
    "Output\n",
    "\n",
    "98\n",
    "\n",
    "98NineEight\n",
    "\n",
    "345\n",
    "\n",
    "345ThreeFourFive\n",
    "\n",
    "24\n",
    "\n",
    "24TwoFour\n",
    "\n",
    "You are asked to create a function to help Alice from Digiterra convert the number she enters. \n",
    "\n",
    "Demonstrate the function with various inputs, including required validations. As Data Analysis students, try to bring out some analysis with these numbers!\n",
    "\n",
    "Note:\n",
    "\n",
    "File name ‘Lab 02.ipynb’\n",
    "Update README.md file with the question and link to the file.\n",
    "Note down the mistakes that Alice will make and find out the solutions for that; include them in your function and document them.\n",
    "Explain the analysis that you are planning to do and the results.\n",
    "Concepts to be used: List, Pre Defined Functions, User Defined Functions\n",
    "Submission in Moodle should have the .ipynb File and the URL to the file in GitHub."
   ]
  },
  {
   "cell_type": "code",
   "execution_count": 1,
   "metadata": {},
   "outputs": [
    {
     "data": {
      "text/plain": [
       "'34ThreeFour'"
      ]
     },
     "execution_count": 1,
     "metadata": {},
     "output_type": "execute_result"
    }
   ],
   "source": [
    "n = int(input(\"Number of digits\"))#entering number of digits\n",
    "val = str(input(\"Enter the number\"))#entering numbers\n",
    "\n",
    "def digit(val,n):#defining function\n",
    "    str = val\n",
    "    for i in range(0,n):#looping\n",
    "        if val[i] =='0':\n",
    "            str= str +\"Zero\"\n",
    "        elif val[i] =='1':#elif statements\n",
    "            str= str +\"One\"\n",
    "        elif val[i] =='2':\n",
    "            str= str +\"Two\"\n",
    "        elif val[i] =='3':\n",
    "            str= str +\"Three\"\n",
    "        elif val[i] =='4':\n",
    "            str= str +\"Four\"\n",
    "        elif val[i] =='5':\n",
    "            str= str +\"Five\"\n",
    "        elif val[i] =='6':\n",
    "            str= str +\"Six\"\n",
    "        elif val[i] =='7':\n",
    "            str= str +\"Seven\"\n",
    "        elif val[i] =='8':\n",
    "            str= str +\"Eight\"\n",
    "        else:\n",
    "            str= str +\"Nine\"\n",
    "    return str\n",
    "digit(val,n)#calling function"
   ]
  }
 ],
 "metadata": {
  "kernelspec": {
   "display_name": "Python 3",
   "language": "python",
   "name": "python3"
  },
  "language_info": {
   "codemirror_mode": {
    "name": "ipython",
    "version": 3
   },
   "file_extension": ".py",
   "mimetype": "text/x-python",
   "name": "python",
   "nbconvert_exporter": "python",
   "pygments_lexer": "ipython3",
   "version": "3.11.4"
  },
  "orig_nbformat": 4
 },
 "nbformat": 4,
 "nbformat_minor": 2
}
