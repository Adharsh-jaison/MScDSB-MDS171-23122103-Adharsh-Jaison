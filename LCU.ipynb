{
 "cells": [
  {
   "cell_type": "code",
   "execution_count": null,
   "metadata": {},
   "outputs": [],
   "source": []
  },
  {
   "cell_type": "code",
   "execution_count": 2,
   "metadata": {},
   "outputs": [
    {
     "name": "stdout",
     "output_type": "stream",
     "text": [
      "i am your enemy  none\n"
     ]
    }
   ],
   "source": [
    "def adharsh(name):\n",
    "    print(\"i am your enemy \",name)\n",
    "    a = name \n",
    "    return a \n",
    "name = \"none\"\n",
    "a = adharsh(name)\n"
   ]
  },
  {
   "cell_type": "code",
   "execution_count": 3,
   "metadata": {},
   "outputs": [
    {
     "name": "stdout",
     "output_type": "stream",
     "text": [
      "the square of a number is given by 25\n"
     ]
    }
   ],
   "source": [
    "n = int(input(\"enter a number:\"))\n",
    "def square(num):\n",
    "    return num**2\n",
    "\n",
    "obj = square(n)\n",
    "print(\"the square of a number is given by\",obj)\n",
    "    "
   ]
  },
  {
   "cell_type": "code",
   "execution_count": 9,
   "metadata": {},
   "outputs": [
    {
     "name": "stdout",
     "output_type": "stream",
     "text": [
      "length of the string function is  8\n",
      "length of the string python is  6\n"
     ]
    }
   ],
   "source": [
    "def fun(str):\n",
    "    \"Nothing is good in this cursed world\"\n",
    "    return len(str)\n",
    "\n",
    "print(\"length of the string function is \", fun(\"function\"))\n",
    "print(\"length of the string python is \",fun(\"python\"))"
   ]
  },
  {
   "cell_type": "markdown",
   "metadata": {},
   "source": [
    "Define a function that takes in list of numbers as input and return the sum of numbers, without any pre defined function?"
   ]
  },
  {
   "cell_type": "code",
   "execution_count": 6,
   "metadata": {},
   "outputs": [
    {
     "data": {
      "text/plain": [
       "1"
      ]
     },
     "execution_count": 6,
     "metadata": {},
     "output_type": "execute_result"
    }
   ],
   "source": [
    "\n",
    "\n",
    "\n",
    "\n",
    "    "
   ]
  },
  {
   "cell_type": "code",
   "execution_count": 8,
   "metadata": {},
   "outputs": [
    {
     "name": "stdout",
     "output_type": "stream",
     "text": [
      "[1, 5, 8, 4, 5, 9]\n",
      "[1, 5, 8, 4, 5, 9]\n",
      "[1, 5, 8, 4, 5, 9]\n",
      "[1, 5, 8, 4, 5, 9]\n",
      "[1, 5, 8, 4, 5, 9]\n",
      "[1, 5, 8, 4, 5, 9]\n"
     ]
    }
   ],
   "source": [
    "list = [1,5,8,4,5,9]\n",
    "\n",
    "for item in list:\n",
    "    print(list)"
   ]
  },
  {
   "cell_type": "code",
   "execution_count": 2,
   "metadata": {},
   "outputs": [
    {
     "name": "stdout",
     "output_type": "stream",
     "text": [
      "545 fivefourfive\n"
     ]
    }
   ],
   "source": [
    "number = [\"zero\",\"one\",\"two\",\"three\",\"four\",\"five\",\"six\",\"seven\",\"eight\",\"nine\"]\n",
    "user = int(input(\"enter the number: \"))\n",
    "\n",
    "def to_help_alice(number,user):\n",
    "    str_user = str(user)\n",
    "    new_value = \"\"\n",
    "    for i in str_user:\n",
    "        digit = int(i)\n",
    "        new_value = new_value + number[digit]\n",
    "    return new_value\n",
    "\n",
    "result = to_help_alice(number,user)\n",
    "print(user,result)"
   ]
  }
 ],
 "metadata": {
  "kernelspec": {
   "display_name": "Python 3",
   "language": "python",
   "name": "python3"
  },
  "language_info": {
   "codemirror_mode": {
    "name": "ipython",
    "version": 3
   },
   "file_extension": ".py",
   "mimetype": "text/x-python",
   "name": "python",
   "nbconvert_exporter": "python",
   "pygments_lexer": "ipython3",
   "version": "3.11.4"
  },
  "orig_nbformat": 4
 },
 "nbformat": 4,
 "nbformat_minor": 2
}
