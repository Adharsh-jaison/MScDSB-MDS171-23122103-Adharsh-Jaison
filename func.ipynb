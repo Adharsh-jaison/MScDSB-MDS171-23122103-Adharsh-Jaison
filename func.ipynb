{
 "cells": [
  {
   "cell_type": "markdown",
   "metadata": {},
   "source": [
    "Define a function that takes in list of numbers as input and return the sum of numbers, without any pre defined function?"
   ]
  },
  {
   "cell_type": "code",
   "execution_count": 10,
   "metadata": {},
   "outputs": [
    {
     "name": "stdout",
     "output_type": "stream",
     "text": [
      "[1, 4, 5, 97, 8, 7]\n",
      "[1, 4, 5, 97, 8, 7]\n",
      "[1, 4, 5, 97, 8, 7]\n",
      "[1, 4, 5, 97, 8, 7]\n",
      "[1, 4, 5, 97, 8, 7]\n",
      "[1, 4, 5, 97, 8, 7]\n"
     ]
    }
   ],
   "source": [
    "list = [1,4,5,97,8,7]\n",
    "for item in list:\n",
    "    print(list)\n"
   ]
  },
  {
   "cell_type": "code",
   "execution_count": 2,
   "metadata": {},
   "outputs": [
    {
     "name": "stdout",
     "output_type": "stream",
     "text": [
      "1\n",
      "4\n",
      "5\n",
      "97\n",
      "8\n",
      "7\n"
     ]
    }
   ],
   "source": [
    "for item in range(0,len(list),1):\n",
    "    print(list[item])"
   ]
  },
  {
   "cell_type": "code",
   "execution_count": 9,
   "metadata": {},
   "outputs": [
    {
     "data": {
      "text/plain": [
       "122"
      ]
     },
     "execution_count": 9,
     "metadata": {},
     "output_type": "execute_result"
    }
   ],
   "source": [
    "def sumlist(list):\n",
    "    sum = 0\n",
    "    for items in list:\n",
    "        sum = sum + items\n",
    "    return sum\n",
    "\n",
    "sumlist([1,4,5,97,8,7])\n",
    "        \n"
   ]
  },
  {
   "cell_type": "markdown",
   "metadata": {},
   "source": [
    "ask user to input value seperate via \" , \""
   ]
  },
  {
   "cell_type": "code",
   "execution_count": 71,
   "metadata": {},
   "outputs": [
    {
     "name": "stdout",
     "output_type": "stream",
     "text": [
      "[1, 2, 3, 4, 5]\n"
     ]
    },
    {
     "data": {
      "text/plain": [
       "15"
      ]
     },
     "execution_count": 71,
     "metadata": {},
     "output_type": "execute_result"
    }
   ],
   "source": [
    "list = []\n",
    "n = int(input(\"enter a number: \"))\n",
    "for i in range(0,n):\n",
    "    item = int(input())\n",
    "    list.append(item)\n",
    "\n",
    "print(list)\n",
    "sumlist(list)"
   ]
  },
  {
   "cell_type": "code",
   "execution_count": 52,
   "metadata": {},
   "outputs": [
    {
     "name": "stdout",
     "output_type": "stream",
     "text": [
      "sum 6\n"
     ]
    }
   ],
   "source": [
    "def sumlist(list):\n",
    "    sum = 0\n",
    "    # logic to sum the number in the list\n",
    "    for item in list:\n",
    "        sum += int(item)\n",
    "    return sum\n",
    "\n",
    "user_input = input(\"Enter a list of number seperated via coma\")\n",
    "\n",
    "array = user_input.strip().split(',')\n",
    "sum = sumlist(array)\n",
    "print(\"sum\",sum)"
   ]
  },
  {
   "cell_type": "markdown",
   "metadata": {},
   "source": [
    "count the number odd and even numbers in the list and print the odd number count and even number count along with the numbers \n",
    "\n",
    "you will have a function that will take a list of numbers, then returns the count of odd numbers and even numbers and the new list of odd numbers and even numbers."
   ]
  },
  {
   "cell_type": "code",
   "execution_count": 79,
   "metadata": {},
   "outputs": [
    {
     "name": "stdout",
     "output_type": "stream",
     "text": [
      "count of even number is 1\n",
      "list of even numbers: ['6']\n",
      "count of odd number is 0\n",
      "list of odd numbers: []\n"
     ]
    }
   ],
   "source": [
    "def odd_even(ls):\n",
    "    odd = []\n",
    "    even = []\n",
    "    for i in ls:\n",
    "        if int(i) % 2 == 0:\n",
    "            even.append(i)\n",
    "        else:\n",
    "            odd.append(i)\n",
    "    return even,odd\n",
    "\n",
    "numbers = input(\"enter the numbers: \").split(',')\n",
    "even,odd = odd_even(numbers)\n",
    "print(\"count of even number is\", len(even))\n",
    "print(\"list of even numbers:\",even)\n",
    "print(\"count of odd number is\", len(odd))\n",
    "print(\"list of odd numbers:\",odd)\n"
   ]
  }
 ],
 "metadata": {
  "kernelspec": {
   "display_name": "Python 3",
   "language": "python",
   "name": "python3"
  },
  "language_info": {
   "codemirror_mode": {
    "name": "ipython",
    "version": 3
   },
   "file_extension": ".py",
   "mimetype": "text/x-python",
   "name": "python",
   "nbconvert_exporter": "python",
   "pygments_lexer": "ipython3",
   "version": "3.11.4"
  },
  "orig_nbformat": 4
 },
 "nbformat": 4,
 "nbformat_minor": 2
}
