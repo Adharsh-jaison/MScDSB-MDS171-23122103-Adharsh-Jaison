{
 "cells": [
  {
   "cell_type": "markdown",
   "metadata": {},
   "source": [
    "Create Lists for [Item, Quantity, Price] with 10 random values of your choice.\n",
    "The item list can be of any category of your choice [Food Items, Grocery Items,...] or anything you choose that can be bought.\n",
    "\n",
    "Prepare a CSV file with combinations of these values with the help of random index & looping statements and other control structures we discussed in class.\n",
    "\n",
    "To get a random index or number to access items from the list, you can use the following:\n",
    "random is a library in Python that can be used to generate random numbers.\n",
    "\n",
    "import random # Importing the external library\n",
    "r1 = random.randint(0, 10) # Generating the random number from the range and store it in r1 variable\n",
    "\n",
    "More details of the Random library usage can be found here.\n",
    "\n",
    "Your CSV file should have a minimum of 100 rows created randomly with the data in the list and the random library.\n",
    "Each row in the CSV file will have (item, Quantity, and UnitPrice).\n",
    "\n",
    "After preparing the CSV with Python code, you need to compute\n",
    "The total cost for each row, display the result from the first 5 rows and the last 10 rows\n",
    "Calculate the total cost for each unique item in the dataset.\n",
    "Item Name | Total Quantity | Total\n",
    "Print the minimum & maximum price for each item sold"
   ]
  },
  {
   "cell_type": "code",
   "execution_count": 229,
   "metadata": {},
   "outputs": [],
   "source": [
    "items = [\"apple\",\"orange\",\"grapes\",\"mango\",\"pineapple\",\"watermelon\",\"banana\",\"strawberry\",\"lemon\",\"pears\"]\n",
    "quantity = [5,6,8,7,10,9,3,2,4,12]\n",
    "price = [100,45,50,150,68,90,170,78,89,200]\n",
    "total =[]"
   ]
  },
  {
   "cell_type": "code",
   "execution_count": 230,
   "metadata": {},
   "outputs": [],
   "source": [
    "\n",
    "import random\n",
    "\n",
    "file = open(\"23122103.csv\",\"w+\")\n",
    "for i in range(100):\n",
    "        r1 = random.randint(0,9)\n",
    "        r2 = random.randint(0,9)\n",
    "        r3 = random.randint(0,9)\n",
    "        total=quantity[r2]*price[r3]\n",
    "        \n",
    "        file.write(str(items[r1])+\",\"+str(quantity[r2])+\",\"+str(price[r3])+\"\\t TOTAL:\"+str(total)+\"\\n\")"
   ]
  },
  {
   "cell_type": "code",
   "execution_count": 231,
   "metadata": {},
   "outputs": [
    {
     "name": "stdout",
     "output_type": "stream",
     "text": [
      "apple,8,90\t TOTAL:720\n",
      "\n",
      "strawberry,4,170\t TOTAL:680\n",
      "\n",
      "banana,8,50\t TOTAL:400\n",
      "\n",
      "pineapple,9,50\t TOTAL:450\n",
      "\n",
      "banana,7,45\t TOTAL:315\n",
      "\n",
      "pineapple,6,170\t TOTAL:1020\n",
      "\n",
      "lemon,9,68\t TOTAL:612\n",
      "\n",
      "banana,7,100\t TOTAL:700\n",
      "\n",
      "strawberry,9,170\t TOTAL:1530\n",
      "\n",
      "pears,8,200\t TOTAL:1600\n",
      "\n",
      "************************************\n",
      "pineapple,4,78\t TOTAL:312\n",
      "\n",
      "orange,12,170\t TOTAL:2040\n",
      "\n",
      "mango,10,170\t TOTAL:1700\n",
      "\n",
      "apple,12,100\t TOTAL:1200\n",
      "\n",
      "strawberry,5,68\t TOTAL:340\n",
      "\n",
      "apple,3,200\t TOTAL:600\n",
      "\n"
     ]
    }
   ],
   "source": [
    "file = open(\"23122103.csv\",\"r+\")\n",
    "\n",
    "\n",
    "for lines in range(90,100):\n",
    "    lines = file.readline()\n",
    "    print(lines)\n",
    "\n",
    "print(\"*\"*36)\n",
    "    \n",
    "for x in range(0,6):\n",
    "    x = file.readline()\n",
    "    print(x)\n",
    "\n",
    "\n",
    "\n",
    "\n",
    "\n",
    "\n"
   ]
  }
 ],
 "metadata": {
  "kernelspec": {
   "display_name": "Python 3",
   "language": "python",
   "name": "python3"
  },
  "language_info": {
   "codemirror_mode": {
    "name": "ipython",
    "version": 3
   },
   "file_extension": ".py",
   "mimetype": "text/x-python",
   "name": "python",
   "nbconvert_exporter": "python",
   "pygments_lexer": "ipython3",
   "version": "3.11.5"
  },
  "orig_nbformat": 4
 },
 "nbformat": 4,
 "nbformat_minor": 2
}
