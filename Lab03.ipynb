{
 "cells": [
  {
   "cell_type": "code",
   "execution_count": 60,
   "metadata": {},
   "outputs": [
    {
     "name": "stdout",
     "output_type": "stream",
     "text": [
      "Minimum value : 17\n",
      "Maximum value: 999\n",
      "Range :  982\n",
      "Mean value :   542.94\n"
     ]
    }
   ],
   "source": [
    "#mean\n",
    "\n",
    "list = [761, 123, 585, 275, 194, 840, 999, 622, 763, 40, 825, 687, 402, 338, 611, 987, 739, 95, 819, 568, 320, 126, 688, 948, 514, 223, 751, 379, 857, 767, 492, 162, 437, 934, 430, 343, 725, 511, 580, 678, 708, 823, 346, 179, 786, 663, 195, 890, 267, 502, 214, 300, 786, 961, 235, 559, 992, 919, 948, 318, 57, 787, 653, 317, 305, 172, 966, 182, 970, 17, 89, 624, 629, 595, 485, 752, 984, 978, 460, 124, 321, 256, 614, 852, 811, 561, 127, 207, 406, 615, 888, 391, 691, 470, 911, 401, 137, 600, 478, 682]\n",
    "\n",
    "def Avg(sum,No):\n",
    "    sum = 0\n",
    "    Total = 0\n",
    "    for values in list:\n",
    "        sum = sum + values\n",
    "        Total = Total + 1\n",
    "\n",
    "    Avg = sum/Total  # Mean = sum of items / total number of items  \n",
    "    return Avg\n",
    "\n",
    "\n",
    "\n",
    "#min\n",
    "\n",
    "min = list[0]\n",
    "for items in list:\n",
    "    if min <= items:\n",
    "        min = min\n",
    "    else:\n",
    "        min = items\n",
    "\n",
    "print(\"Minimum value :\",min)\n",
    "\n",
    "#max\n",
    "\n",
    "max = list[0]\n",
    "for items in list:\n",
    "    if max >= items:\n",
    "        max = max\n",
    "    else:\n",
    "        max = items\n",
    "\n",
    "print(\"Maximum value:\",max)\n",
    "    \n",
    "# range\n",
    "\n",
    "range = max - min\n",
    "\n",
    "print(\"Range : \",range)\n",
    "print(\"Mean value :  \",Avg(sum,Total) )\n",
    " \n",
    "            \n",
    "\n",
    "\n",
    "\n",
    "\n",
    "\n"
   ]
  }
 ],
 "metadata": {
  "kernelspec": {
   "display_name": "Python 3",
   "language": "python",
   "name": "python3"
  },
  "language_info": {
   "codemirror_mode": {
    "name": "ipython",
    "version": 3
   },
   "file_extension": ".py",
   "mimetype": "text/x-python",
   "name": "python",
   "nbconvert_exporter": "python",
   "pygments_lexer": "ipython3",
   "version": "3.11.4"
  },
  "orig_nbformat": 4
 },
 "nbformat": 4,
 "nbformat_minor": 2
}
