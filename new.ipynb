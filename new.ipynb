{
 "cells": [
  {
   "cell_type": "code",
   "execution_count": 2,
   "metadata": {},
   "outputs": [
    {
     "name": "stdout",
     "output_type": "stream",
     "text": [
      "a\n",
      "d\n",
      "h\n",
      "a\n",
      "r\n",
      "s\n",
      "h\n",
      " \n",
      "j\n",
      "a\n",
      "i\n",
      "s\n",
      "o\n",
      "n\n"
     ]
    }
   ],
   "source": [
    "msg = \"adharsh jaison\"\n",
    "\n",
    "\n",
    "for i in msg:\n",
    "    print(i)"
   ]
  },
  {
   "cell_type": "markdown",
   "metadata": {},
   "source": [
    "strip(),split(),format()"
   ]
  },
  {
   "cell_type": "code",
   "execution_count": 7,
   "metadata": {},
   "outputs": [
    {
     "name": "stdout",
     "output_type": "stream",
     "text": [
      "3\n"
     ]
    }
   ],
   "source": [
    "name = \"    abc     \"\n",
    "print(len(name.strip()))"
   ]
  },
  {
   "cell_type": "code",
   "execution_count": 40,
   "metadata": {},
   "outputs": [
    {
     "name": "stdout",
     "output_type": "stream",
     "text": [
      "['1', '2', '3', '4', '5', '6', '7', '8']\n",
      "1 <class 'str'> <class 'int'>\n",
      "2 <class 'str'> <class 'int'>\n",
      "3 <class 'str'> <class 'int'>\n",
      "4 <class 'str'> <class 'int'>\n",
      "5 <class 'str'> <class 'int'>\n",
      "6 <class 'str'> <class 'int'>\n",
      "7 <class 'str'> <class 'int'>\n",
      "8 <class 'str'> <class 'int'>\n",
      "36\n"
     ]
    }
   ],
   "source": [
    "number = \"1,2,3,4,5,6,7,8\"\n",
    "nos = number.split(\",\")\n",
    "print(nos)\n",
    "sum = 0 # storing the value\n",
    "for item in nos:\n",
    "    temp = int(item) #convert str to int\n",
    "    sum = sum + temp\n",
    "    print(item,type(item),type(temp))\n",
    "print(sum)"
   ]
  },
  {
   "cell_type": "code",
   "execution_count": 46,
   "metadata": {},
   "outputs": [
    {
     "name": "stdout",
     "output_type": "stream",
     "text": [
      "your user name: adharsh jaison and password entered as: 6546\n"
     ]
    }
   ],
   "source": [
    "name = input(\"enter user name: \")\n",
    "password = input(\"enter the  password: \")\n",
    "\n",
    "print(\"your user name: {} and password entered as: {}\".format(name,password))"
   ]
  },
  {
   "cell_type": "markdown",
   "metadata": {},
   "source": [
    "for loop"
   ]
  },
  {
   "cell_type": "code",
   "execution_count": 48,
   "metadata": {},
   "outputs": [
    {
     "name": "stdout",
     "output_type": "stream",
     "text": [
      "10\n",
      "12\n",
      "14\n",
      "16\n",
      "18\n"
     ]
    }
   ],
   "source": [
    "for i in range(10,20,2):\n",
    "    print(i)"
   ]
  },
  {
   "cell_type": "markdown",
   "metadata": {},
   "source": [
    "Find the sum of n multiples of 2 where n is user input"
   ]
  },
  {
   "cell_type": "code",
   "execution_count": 65,
   "metadata": {},
   "outputs": [
    {
     "name": "stdout",
     "output_type": "stream",
     "text": [
      "6\n"
     ]
    }
   ],
   "source": [
    "n = int(input(\"enter a number\"))\n",
    "sum = 0\n",
    "for i in range(0,n+1,2):\n",
    "    sum=sum+i\n",
    "print(sum)"
   ]
  },
  {
   "cell_type": "markdown",
   "metadata": {},
   "source": [
    "List"
   ]
  },
  {
   "cell_type": "code",
   "execution_count": 67,
   "metadata": {},
   "outputs": [
    {
     "name": "stdout",
     "output_type": "stream",
     "text": [
      "6488\n"
     ]
    }
   ],
   "source": [
    "nlist = [\"abc\",\"ldfsjf\",6488,48.68,\"akjsfk\"]\n",
    "print(nlist[2])"
   ]
  },
  {
   "cell_type": "code",
   "execution_count": 50,
   "metadata": {},
   "outputs": [
    {
     "name": "stdout",
     "output_type": "stream",
     "text": [
      "['one', 'two', 'three', 'four', 'five', 'six', 'seven']\n"
     ]
    }
   ],
   "source": [
    "listex = [\"one\",\"two\",\"three\",\"four\",\"five\",\"six\",\"seven\"]\n",
    "print(listex)"
   ]
  },
  {
   "cell_type": "code",
   "execution_count": 51,
   "metadata": {},
   "outputs": [
    {
     "name": "stdout",
     "output_type": "stream",
     "text": [
      "success\n"
     ]
    }
   ],
   "source": [
    "if \"three\" in listex:\n",
    "    print(\"success\")\n",
    "    # it is case sensitive"
   ]
  },
  {
   "cell_type": "code",
   "execution_count": 52,
   "metadata": {},
   "outputs": [
    {
     "name": "stdout",
     "output_type": "stream",
     "text": [
      "['one', 'two', 'four', 'five', 'six', 'seven']\n"
     ]
    }
   ],
   "source": [
    "listex.remove(\"three\")\n",
    "print(listex)"
   ]
  },
  {
   "cell_type": "code",
   "execution_count": 55,
   "metadata": {},
   "outputs": [
    {
     "name": "stdout",
     "output_type": "stream",
     "text": [
      "['five', 'four', 'one', 'seven', 'six', 'two']\n"
     ]
    }
   ],
   "source": [
    "listex.sort()\n",
    "print(listex)"
   ]
  },
  {
   "cell_type": "code",
   "execution_count": 54,
   "metadata": {},
   "outputs": [
    {
     "name": "stdout",
     "output_type": "stream",
     "text": [
      "['two', 'six', 'seven', 'one', 'four', 'five']\n"
     ]
    }
   ],
   "source": [
    "listex.reverse()\n",
    "print(listex)"
   ]
  },
  {
   "cell_type": "markdown",
   "metadata": {},
   "source": [
    "Functions\n",
    "function with parameters\n",
    "function without parameter\n",
    "function with return value \n",
    "function without return value"
   ]
  },
  {
   "cell_type": "code",
   "execution_count": 73,
   "metadata": {},
   "outputs": [
    {
     "ename": "TypeError",
     "evalue": "fname() missing 1 required positional argument: 'n'",
     "output_type": "error",
     "traceback": [
      "\u001b[1;31m---------------------------------------------------------------------------\u001b[0m",
      "\u001b[1;31mTypeError\u001b[0m                                 Traceback (most recent call last)",
      "Cell \u001b[1;32mIn[73], line 6\u001b[0m\n\u001b[0;32m      3\u001b[0m     retval \u001b[39m=\u001b[39m \u001b[39m\"\u001b[39m\u001b[39msuccess\u001b[39m\u001b[39m\"\u001b[39m\n\u001b[0;32m      4\u001b[0m     \u001b[39mreturn\u001b[39;00m retval,\u001b[39mTrue\u001b[39;00m\n\u001b[1;32m----> 6\u001b[0m status, flag \u001b[39m=\u001b[39m fname()\n\u001b[0;32m      7\u001b[0m \u001b[39mprint\u001b[39m(status,flag)\n",
      "\u001b[1;31mTypeError\u001b[0m: fname() missing 1 required positional argument: 'n'"
     ]
    }
   ],
   "source": [
    "def fname(n):\n",
    "    print(\"I am your first function...\",n) \n",
    "    retval = \"success\"\n",
    "    return retval,True\n",
    "\n",
    "status, flag = fname()\n",
    "print(status,flag)"
   ]
  },
  {
   "cell_type": "code",
   "execution_count": 74,
   "metadata": {},
   "outputs": [
    {
     "name": "stdout",
     "output_type": "stream",
     "text": [
      "I am your first function... adharsh jaison\n",
      "success True\n"
     ]
    }
   ],
   "source": [
    "name = \"adharsh jaison\"\n",
    "status, flag = fname(name)\n",
    "print(status,flag)"
   ]
  }
 ],
 "metadata": {
  "kernelspec": {
   "display_name": "Python 3",
   "language": "python",
   "name": "python3"
  },
  "language_info": {
   "codemirror_mode": {
    "name": "ipython",
    "version": 3
   },
   "file_extension": ".py",
   "mimetype": "text/x-python",
   "name": "python",
   "nbconvert_exporter": "python",
   "pygments_lexer": "ipython3",
   "version": "3.11.4"
  },
  "orig_nbformat": 4
 },
 "nbformat": 4,
 "nbformat_minor": 2
}
