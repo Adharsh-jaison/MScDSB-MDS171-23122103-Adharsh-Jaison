{
 "cells": [
  {
   "cell_type": "markdown",
   "metadata": {},
   "source": [
    "Write a program to print a name 'n' times where name and 'n' be user input ?"
   ]
  },
  {
   "cell_type": "code",
   "execution_count": 1,
   "metadata": {},
   "outputs": [
    {
     "name": "stdout",
     "output_type": "stream",
     "text": [
      "Adharsh jaison\n",
      "Adharsh jaison\n",
      "Adharsh jaison\n",
      "Adharsh jaison\n",
      "Adharsh jaison\n",
      "Adharsh jaison\n",
      "Adharsh jaison\n",
      "Adharsh jaison\n",
      "Adharsh jaison\n",
      "Adharsh jaison\n",
      "\n"
     ]
    }
   ],
   "source": [
    "# entering name\n",
    "name = input(\"Enter your name: \")\n",
    "# how many times you want to enter\n",
    "n = int(input(\"how many times you want to enter: \"))\n",
    "# \"\\n\" is used to display name line by line\n",
    "print((name+\"\\n\") * n)\n"
   ]
  },
  {
   "cell_type": "markdown",
   "metadata": {},
   "source": [
    "Based on the user input, print the corresponding day of the week if 1-> sunday,if 2-> monday.."
   ]
  },
  {
   "cell_type": "code",
   "execution_count": 17,
   "metadata": {},
   "outputs": [
    {
     "name": "stdout",
     "output_type": "stream",
     "text": [
      "thursday\n"
     ]
    }
   ],
   "source": [
    "\n",
    "n =int(input(\"Enter number:\"))\n",
    "if n > 0:\n",
    "    if n == 1:\n",
    "        print(\"sunday\")\n",
    "    elif n == 2:\n",
    "        print(\"monday\")\n",
    "    elif n == 3:\n",
    "        print(\"tuesday\")\n",
    "    elif n == 4:\n",
    "        print(\"wednesday\")\n",
    "    elif n == 5:\n",
    "        print(\"thursday\")\n",
    "    elif n == 6:\n",
    "        print(\"friday\")\n",
    "    elif n == 7:\n",
    "        print(\"saturday\")\n",
    "    else:\n",
    "        print(\"no day\")\n",
    "else:\n",
    "    print(\"no negative days\")"
   ]
  },
  {
   "cell_type": "code",
   "execution_count": 2,
   "metadata": {},
   "outputs": [
    {
     "data": {
      "text/plain": [
       "'345ThreeFourFive'"
      ]
     },
     "execution_count": 2,
     "metadata": {},
     "output_type": "execute_result"
    }
   ],
   "source": [
    "n = int(input(\"Number of places:\"))\n",
    "val = str(input(\"Enter the Value:\"))\n",
    "\n",
    "def readVal(val,n):\n",
    "    str = val\n",
    "    for i in range(0,n):\n",
    "        if val[i] =='0':\n",
    "            str= str +\"Zero\"\n",
    "        elif val[i] =='1':\n",
    "            str= str +\"One\"\n",
    "        elif val[i] =='2':\n",
    "            str= str +\"Two\"\n",
    "        elif val[i] =='3':\n",
    "            str= str +\"Three\"\n",
    "        elif val[i] =='4':\n",
    "            str= str +\"Four\"\n",
    "        elif val[i] =='5':\n",
    "            str= str +\"Five\"\n",
    "        elif val[i] =='6':\n",
    "            str= str +\"Six\"\n",
    "        elif val[i] =='7':\n",
    "            str= str +\"Seven\"\n",
    "        elif val[i] =='8':\n",
    "            str= str +\"Eight\"\n",
    "        else:\n",
    "            str= str +\"Nine\"\n",
    "    return str\n",
    "readVal(val,n)"
   ]
  }
 ],
 "metadata": {
  "kernelspec": {
   "display_name": "Python 3",
   "language": "python",
   "name": "python3"
  },
  "language_info": {
   "codemirror_mode": {
    "name": "ipython",
    "version": 3
   },
   "file_extension": ".py",
   "mimetype": "text/x-python",
   "name": "python",
   "nbconvert_exporter": "python",
   "pygments_lexer": "ipython3",
   "version": "3.11.4"
  },
  "orig_nbformat": 4
 },
 "nbformat": 4,
 "nbformat_minor": 2
}
