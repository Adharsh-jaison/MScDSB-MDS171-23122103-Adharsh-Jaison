{
 "cells": [
  {
   "cell_type": "markdown",
   "metadata": {},
   "source": [
    "Write a program to print a name 'n' times where name and 'n' be user input ?"
   ]
  },
  {
   "cell_type": "code",
   "execution_count": 1,
   "metadata": {},
   "outputs": [
    {
     "name": "stdout",
     "output_type": "stream",
     "text": [
      "Adharsh jaison\n",
      "Adharsh jaison\n",
      "Adharsh jaison\n",
      "Adharsh jaison\n",
      "Adharsh jaison\n",
      "Adharsh jaison\n",
      "Adharsh jaison\n",
      "Adharsh jaison\n",
      "Adharsh jaison\n",
      "Adharsh jaison\n",
      "\n"
     ]
    }
   ],
   "source": [
    "# entering name\n",
    "name = input(\"Enter your name: \")\n",
    "# how many times you want to enter\n",
    "n = int(input(\"how many times you want to enter: \"))\n",
    "# \"\\n\" is used to display name line by line\n",
    "print((name+\"\\n\") * n)\n"
   ]
  }
 ],
 "metadata": {
  "kernelspec": {
   "display_name": "Python 3",
   "language": "python",
   "name": "python3"
  },
  "language_info": {
   "codemirror_mode": {
    "name": "ipython",
    "version": 3
   },
   "file_extension": ".py",
   "mimetype": "text/x-python",
   "name": "python",
   "nbconvert_exporter": "python",
   "pygments_lexer": "ipython3",
   "version": "3.11.6"
  },
  "orig_nbformat": 4
 },
 "nbformat": 4,
 "nbformat_minor": 2
}
