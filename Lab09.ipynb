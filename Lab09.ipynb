{
 "cells": [
  {
   "cell_type": "markdown",
   "metadata": {},
   "source": [
    "Lab 09\n",
    "create a petstore class where you have the details of pets available and their details.\n",
    "The class will have methods\n",
    "- Store a new pet details\n",
    "- Search for a pet\n",
    "- Sell a pet\n",
    "- List all pets\n",
    "\n",
    "Importing your petstore class, create a petstoremain file, where you will implement a menu-driven program for Admin - who will manage the store & User, who will see the pets and buy pets.     "
   ]
  },
  {
   "cell_type": "code",
   "execution_count": 1,
   "metadata": {},
   "outputs": [
    {
     "ename": "AttributeError",
     "evalue": "'petStore' object has no attribute 'pet'",
     "output_type": "error",
     "traceback": [
      "\u001b[1;31m---------------------------------------------------------------------------\u001b[0m",
      "\u001b[1;31mAttributeError\u001b[0m                            Traceback (most recent call last)",
      "\u001b[1;32md:\\GIT\\MScDSB-MDS171-23122103-Adharsh-Jaison\\Lab09.ipynb Cell 2\u001b[0m line \u001b[0;36m6\n\u001b[0;32m     <a href='vscode-notebook-cell:/d%3A/GIT/MScDSB-MDS171-23122103-Adharsh-Jaison/Lab09.ipynb#W1sZmlsZQ%3D%3D?line=62'>63</a>\u001b[0m choice \u001b[39m=\u001b[39m \u001b[39mint\u001b[39m(\u001b[39minput\u001b[39m(\u001b[39m\"\u001b[39m\u001b[39menter your choice: \u001b[39m\u001b[39m\"\u001b[39m))\n\u001b[0;32m     <a href='vscode-notebook-cell:/d%3A/GIT/MScDSB-MDS171-23122103-Adharsh-Jaison/Lab09.ipynb#W1sZmlsZQ%3D%3D?line=64'>65</a>\u001b[0m \u001b[39mif\u001b[39;00m choice \u001b[39m==\u001b[39m\u001b[39m1\u001b[39m:\n\u001b[1;32m---> <a href='vscode-notebook-cell:/d%3A/GIT/MScDSB-MDS171-23122103-Adharsh-Jaison/Lab09.ipynb#W1sZmlsZQ%3D%3D?line=65'>66</a>\u001b[0m     shop1\u001b[39m.\u001b[39;49mpetDetails()\n\u001b[0;32m     <a href='vscode-notebook-cell:/d%3A/GIT/MScDSB-MDS171-23122103-Adharsh-Jaison/Lab09.ipynb#W1sZmlsZQ%3D%3D?line=66'>67</a>\u001b[0m \u001b[39mif\u001b[39;00m choice \u001b[39m==\u001b[39m\u001b[39m2\u001b[39m:\n\u001b[0;32m     <a href='vscode-notebook-cell:/d%3A/GIT/MScDSB-MDS171-23122103-Adharsh-Jaison/Lab09.ipynb#W1sZmlsZQ%3D%3D?line=67'>68</a>\u001b[0m     shop1\u001b[39m.\u001b[39msearchPet()\n",
      "\u001b[1;32md:\\GIT\\MScDSB-MDS171-23122103-Adharsh-Jaison\\Lab09.ipynb Cell 2\u001b[0m line \u001b[0;36m2\n\u001b[0;32m     <a href='vscode-notebook-cell:/d%3A/GIT/MScDSB-MDS171-23122103-Adharsh-Jaison/Lab09.ipynb#W1sZmlsZQ%3D%3D?line=20'>21</a>\u001b[0m details[\u001b[39m\"\u001b[39m\u001b[39mColour\u001b[39m\u001b[39m\"\u001b[39m] \u001b[39m=\u001b[39m colour\n\u001b[0;32m     <a href='vscode-notebook-cell:/d%3A/GIT/MScDSB-MDS171-23122103-Adharsh-Jaison/Lab09.ipynb#W1sZmlsZQ%3D%3D?line=21'>22</a>\u001b[0m details[\u001b[39m\"\u001b[39m\u001b[39mRate\u001b[39m\u001b[39m\"\u001b[39m] \u001b[39m=\u001b[39m rate\n\u001b[1;32m---> <a href='vscode-notebook-cell:/d%3A/GIT/MScDSB-MDS171-23122103-Adharsh-Jaison/Lab09.ipynb#W1sZmlsZQ%3D%3D?line=23'>24</a>\u001b[0m \u001b[39mfor\u001b[39;00m item \u001b[39min\u001b[39;00m \u001b[39mself\u001b[39;49m\u001b[39m.\u001b[39;49mpet\u001b[39m.\u001b[39mkeys():\n\u001b[0;32m     <a href='vscode-notebook-cell:/d%3A/GIT/MScDSB-MDS171-23122103-Adharsh-Jaison/Lab09.ipynb#W1sZmlsZQ%3D%3D?line=24'>25</a>\u001b[0m     exist \u001b[39m=\u001b[39m \u001b[39mTrue\u001b[39;00m\n\u001b[0;32m     <a href='vscode-notebook-cell:/d%3A/GIT/MScDSB-MDS171-23122103-Adharsh-Jaison/Lab09.ipynb#W1sZmlsZQ%3D%3D?line=25'>26</a>\u001b[0m     \u001b[39mif\u001b[39;00m Type \u001b[39m==\u001b[39m item:\n",
      "\u001b[1;31mAttributeError\u001b[0m: 'petStore' object has no attribute 'pet'"
     ]
    }
   ],
   "source": [
    "class petStore:\n",
    "    def _init_(self):\n",
    "        self.pet ={\n",
    "\n",
    "            \"cat\":[],\n",
    "            \"love birds\": [],\n",
    "            \"puppy\" : [],\n",
    "            \"fish\": [],\n",
    "            \"dog\": []\n",
    "        }\n",
    "\n",
    "    def petDetails(self):\n",
    "        details = {}\n",
    "        Type = input(\"Enter the Type of pet: \")\n",
    "        breed = input(\"Enter the breed of pet: \")\n",
    "        age = input(\"Enter the age of the pet:  \")\n",
    "        colour = input(\"Enter the colour of the pet: \")\n",
    "        rate = int(input(\"Enter the rate of the pet: \"))\n",
    "        details[\"Breed\"] = breed\n",
    "        details[\"Age\"] = age\n",
    "        details[\"Colour\"] = colour\n",
    "        details[\"Rate\"] = rate\n",
    "\n",
    "        for item in self.pet.keys():\n",
    "            exist = True\n",
    "            if Type == item:\n",
    "                \n",
    "                self.pet[item].append(details)\n",
    "                break\n",
    "            else:\n",
    "                exist = False\n",
    "        if exist == False:\n",
    "            print(\"Pet is not available\")\n",
    "\n",
    "    \n",
    "    \n",
    "    def searchPet(self):\n",
    "        searchName = input(\"Enter the type of the pet:  \").lower()\n",
    "\n",
    "        for type in self.pet.keys():\n",
    "            flag = True\n",
    "            if type == searchName:\n",
    "                print(self.pet[type])\n",
    "                searchBreed = input(\"Enter the searching breed: \")\n",
    "                for i in self.pet[type]:\n",
    "                    for breed in i.keys():\n",
    "                        if searchBreed == i[breed]:\n",
    "                            print(i)\n",
    "                            break\n",
    "\n",
    "                break\n",
    "            else:\n",
    "                flag = False\n",
    "        if flag == False:\n",
    "            print(\"Pet not found\")\n",
    "    \n",
    "    # def sellPet(self):\n",
    "    #     sold= input(\"Enter the breed you want to sell: \")\n",
    "\n",
    "shop1 = petStore()\n",
    "#menu driven\n",
    "while True:\n",
    "    choice = int(input(\"enter your choice: \"))\n",
    "\n",
    "    if choice ==1:\n",
    "        shop1.petDetails()\n",
    "    if choice ==2:\n",
    "        shop1.searchPet()\n",
    "    if choice ==3:\n",
    "        exit()"
   ]
  }
 ],
 "metadata": {
  "kernelspec": {
   "display_name": "Python 3",
   "language": "python",
   "name": "python3"
  },
  "language_info": {
   "codemirror_mode": {
    "name": "ipython",
    "version": 3
   },
   "file_extension": ".py",
   "mimetype": "text/x-python",
   "name": "python",
   "nbconvert_exporter": "python",
   "pygments_lexer": "ipython3",
   "version": "3.11.6"
  }
 },
 "nbformat": 4,
 "nbformat_minor": 2
}
